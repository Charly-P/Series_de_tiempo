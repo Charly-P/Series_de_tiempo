{
 "cells": [
  {
   "cell_type": "markdown",
   "metadata": {},
   "source": [
    "### Lab 1 - Series temporales\n",
    "1) Levantar los datos desde el archivo dataset/Telefonia_movil.csv.\n",
    "Los mismos fueron extraídos de\n",
    "http://datosabiertos.enacom.gob.ar/visualizations/29890/trafico-de\n",
    "-suscriptores-de-telefonia-movil-miles-de-minutos/\n",
    "\n",
    "2) Explorar los datos, visualizarlos\n",
    "\n",
    "3) Implementar dos modelos (como ser Random Walk (Naïve) y\n",
    "Exponential Smoothing)\n",
    "\n",
    "4) Visualizar los resultados y evaluarlos, comparando ambas\n",
    "implementaciones"
   ]
  },
  {
   "cell_type": "code",
   "execution_count": 32,
   "metadata": {},
   "outputs": [],
   "source": [
    "# Packages\n",
    "import numpy as np\n",
    "from scipy import stats\n",
    "import pandas as pd\n",
    "import matplotlib.pyplot as plt\n",
    "import seaborn as sns\n",
    "import statsmodels.api as sm\n",
    "from dateutil.parser import parse\n",
    "from datetime import datetime\n",
    "\n",
    "\n"
   ]
  },
  {
   "cell_type": "code",
   "execution_count": 2,
   "metadata": {},
   "outputs": [],
   "source": [
    "sns.set_context('notebook') \n",
    "sns.set_style('ticks')\n",
    "red='#D62728'\n",
    "blue='#1F77B4'\n",
    "%matplotlib inline"
   ]
  },
  {
   "cell_type": "code",
   "execution_count": 3,
   "metadata": {},
   "outputs": [],
   "source": [
    "Datos = pd.read_csv('datasets/telefonia_movil.csv', thousands ='.')"
   ]
  },
  {
   "cell_type": "code",
   "execution_count": 4,
   "metadata": {},
   "outputs": [
    {
     "data": {
      "text/plain": [
       "Año                                    int64\n",
       "Trimestre                              int64\n",
       "Minutos pospago salientes (miles)      int64\n",
       "Minutos prepago salientes (miles)      int64\n",
       "Total de minutos salientes (miles)     int64\n",
       "Periodo                               object\n",
       "dtype: object"
      ]
     },
     "execution_count": 4,
     "metadata": {},
     "output_type": "execute_result"
    }
   ],
   "source": [
    "Datos.dtypes"
   ]
  },
  {
   "cell_type": "code",
   "execution_count": 5,
   "metadata": {},
   "outputs": [
    {
     "data": {
      "text/html": [
       "<div>\n",
       "<style scoped>\n",
       "    .dataframe tbody tr th:only-of-type {\n",
       "        vertical-align: middle;\n",
       "    }\n",
       "\n",
       "    .dataframe tbody tr th {\n",
       "        vertical-align: top;\n",
       "    }\n",
       "\n",
       "    .dataframe thead th {\n",
       "        text-align: right;\n",
       "    }\n",
       "</style>\n",
       "<table border=\"1\" class=\"dataframe\">\n",
       "  <thead>\n",
       "    <tr style=\"text-align: right;\">\n",
       "      <th></th>\n",
       "      <th>Año</th>\n",
       "      <th>Trimestre</th>\n",
       "      <th>Minutos pospago salientes (miles)</th>\n",
       "      <th>Minutos prepago salientes (miles)</th>\n",
       "      <th>Total de minutos salientes (miles)</th>\n",
       "      <th>Periodo</th>\n",
       "    </tr>\n",
       "  </thead>\n",
       "  <tbody>\n",
       "    <tr>\n",
       "      <td>0</td>\n",
       "      <td>2013</td>\n",
       "      <td>1</td>\n",
       "      <td>8785943</td>\n",
       "      <td>6582117</td>\n",
       "      <td>15368060</td>\n",
       "      <td>Ene-Mar 2013</td>\n",
       "    </tr>\n",
       "    <tr>\n",
       "      <td>1</td>\n",
       "      <td>2013</td>\n",
       "      <td>2</td>\n",
       "      <td>9512689</td>\n",
       "      <td>7108640</td>\n",
       "      <td>16621329</td>\n",
       "      <td>Abr-Jun 2013</td>\n",
       "    </tr>\n",
       "    <tr>\n",
       "      <td>2</td>\n",
       "      <td>2013</td>\n",
       "      <td>3</td>\n",
       "      <td>10315484</td>\n",
       "      <td>7335154</td>\n",
       "      <td>17650638</td>\n",
       "      <td>Jul-Sept 2013</td>\n",
       "    </tr>\n",
       "    <tr>\n",
       "      <td>3</td>\n",
       "      <td>2013</td>\n",
       "      <td>4</td>\n",
       "      <td>9809515</td>\n",
       "      <td>6250549</td>\n",
       "      <td>16060064</td>\n",
       "      <td>Oct-Dic 2013</td>\n",
       "    </tr>\n",
       "    <tr>\n",
       "      <td>4</td>\n",
       "      <td>2014</td>\n",
       "      <td>1</td>\n",
       "      <td>10128751</td>\n",
       "      <td>5799223</td>\n",
       "      <td>15927974</td>\n",
       "      <td>Ene-Mar 2013</td>\n",
       "    </tr>\n",
       "  </tbody>\n",
       "</table>\n",
       "</div>"
      ],
      "text/plain": [
       "    Año  Trimestre  Minutos pospago salientes (miles)  \\\n",
       "0  2013          1                            8785943   \n",
       "1  2013          2                            9512689   \n",
       "2  2013          3                           10315484   \n",
       "3  2013          4                            9809515   \n",
       "4  2014          1                           10128751   \n",
       "\n",
       "   Minutos prepago salientes (miles)  Total de minutos salientes (miles)  \\\n",
       "0                            6582117                            15368060   \n",
       "1                            7108640                            16621329   \n",
       "2                            7335154                            17650638   \n",
       "3                            6250549                            16060064   \n",
       "4                            5799223                            15927974   \n",
       "\n",
       "         Periodo  \n",
       "0   Ene-Mar 2013  \n",
       "1   Abr-Jun 2013  \n",
       "2  Jul-Sept 2013  \n",
       "3   Oct-Dic 2013  \n",
       "4   Ene-Mar 2013  "
      ]
     },
     "execution_count": 5,
     "metadata": {},
     "output_type": "execute_result"
    }
   ],
   "source": [
    "Datos.head()"
   ]
  },
  {
   "cell_type": "code",
   "execution_count": 6,
   "metadata": {},
   "outputs": [],
   "source": [
    "def convertir_trimestre (año, trim):\n",
    "    #print(type(año))\n",
    "    #print(type(trim))\n",
    "    #print(trim, len(str(trim*3)))\n",
    "    if len(str(trim*3)) == 2: \n",
    "        mes = str(trim*3) \n",
    "    else: \n",
    "        mes = '0'+str(trim*3);\n",
    "    return str(año) + '-' + mes + '-01'\n",
    "\n"
   ]
  },
  {
   "cell_type": "code",
   "execution_count": 7,
   "metadata": {},
   "outputs": [
    {
     "data": {
      "text/html": [
       "<div>\n",
       "<style scoped>\n",
       "    .dataframe tbody tr th:only-of-type {\n",
       "        vertical-align: middle;\n",
       "    }\n",
       "\n",
       "    .dataframe tbody tr th {\n",
       "        vertical-align: top;\n",
       "    }\n",
       "\n",
       "    .dataframe thead th {\n",
       "        text-align: right;\n",
       "    }\n",
       "</style>\n",
       "<table border=\"1\" class=\"dataframe\">\n",
       "  <thead>\n",
       "    <tr style=\"text-align: right;\">\n",
       "      <th></th>\n",
       "      <th>Año</th>\n",
       "      <th>Trimestre</th>\n",
       "      <th>Minutos pospago salientes (miles)</th>\n",
       "      <th>Minutos prepago salientes (miles)</th>\n",
       "      <th>Total de minutos salientes (miles)</th>\n",
       "      <th>Periodo</th>\n",
       "      <th>Period_tri</th>\n",
       "    </tr>\n",
       "  </thead>\n",
       "  <tbody>\n",
       "    <tr>\n",
       "      <td>0</td>\n",
       "      <td>2013</td>\n",
       "      <td>1</td>\n",
       "      <td>8785943</td>\n",
       "      <td>6582117</td>\n",
       "      <td>15368060</td>\n",
       "      <td>Ene-Mar 2013</td>\n",
       "      <td>2013-03-01</td>\n",
       "    </tr>\n",
       "    <tr>\n",
       "      <td>1</td>\n",
       "      <td>2013</td>\n",
       "      <td>2</td>\n",
       "      <td>9512689</td>\n",
       "      <td>7108640</td>\n",
       "      <td>16621329</td>\n",
       "      <td>Abr-Jun 2013</td>\n",
       "      <td>2013-06-01</td>\n",
       "    </tr>\n",
       "    <tr>\n",
       "      <td>2</td>\n",
       "      <td>2013</td>\n",
       "      <td>3</td>\n",
       "      <td>10315484</td>\n",
       "      <td>7335154</td>\n",
       "      <td>17650638</td>\n",
       "      <td>Jul-Sept 2013</td>\n",
       "      <td>2013-09-01</td>\n",
       "    </tr>\n",
       "    <tr>\n",
       "      <td>3</td>\n",
       "      <td>2013</td>\n",
       "      <td>4</td>\n",
       "      <td>9809515</td>\n",
       "      <td>6250549</td>\n",
       "      <td>16060064</td>\n",
       "      <td>Oct-Dic 2013</td>\n",
       "      <td>2013-12-01</td>\n",
       "    </tr>\n",
       "    <tr>\n",
       "      <td>4</td>\n",
       "      <td>2014</td>\n",
       "      <td>1</td>\n",
       "      <td>10128751</td>\n",
       "      <td>5799223</td>\n",
       "      <td>15927974</td>\n",
       "      <td>Ene-Mar 2013</td>\n",
       "      <td>2014-03-01</td>\n",
       "    </tr>\n",
       "  </tbody>\n",
       "</table>\n",
       "</div>"
      ],
      "text/plain": [
       "    Año  Trimestre  Minutos pospago salientes (miles)  \\\n",
       "0  2013          1                            8785943   \n",
       "1  2013          2                            9512689   \n",
       "2  2013          3                           10315484   \n",
       "3  2013          4                            9809515   \n",
       "4  2014          1                           10128751   \n",
       "\n",
       "   Minutos prepago salientes (miles)  Total de minutos salientes (miles)  \\\n",
       "0                            6582117                            15368060   \n",
       "1                            7108640                            16621329   \n",
       "2                            7335154                            17650638   \n",
       "3                            6250549                            16060064   \n",
       "4                            5799223                            15927974   \n",
       "\n",
       "         Periodo  Period_tri  \n",
       "0   Ene-Mar 2013  2013-03-01  \n",
       "1   Abr-Jun 2013  2013-06-01  \n",
       "2  Jul-Sept 2013  2013-09-01  \n",
       "3   Oct-Dic 2013  2013-12-01  \n",
       "4   Ene-Mar 2013  2014-03-01  "
      ]
     },
     "execution_count": 7,
     "metadata": {},
     "output_type": "execute_result"
    }
   ],
   "source": [
    "# esta anda\n",
    "#Datos['Period_tri'] = Datos.Año.astype(str).str.cat(Datos.Trimestre.astype(str), sep='Q')\n",
    "\n",
    "\n",
    "#esta es la neuva\n",
    "Datos['Period_tri'] = Datos.apply(lambda x: convertir_trimestre(x['Año'], x['Trimestre']), axis=1)\n",
    "Datos.head()\n"
   ]
  },
  {
   "cell_type": "code",
   "execution_count": 8,
   "metadata": {},
   "outputs": [],
   "source": [
    "\n",
    "Datos.index = pd.to_datetime(Datos['Period_tri'])\n",
    "Datos.index.names = ['Trimestre_F']\n",
    "Datos.index = Datos.index.to_period()"
   ]
  },
  {
   "cell_type": "code",
   "execution_count": 9,
   "metadata": {},
   "outputs": [
    {
     "data": {
      "text/html": [
       "<div>\n",
       "<style scoped>\n",
       "    .dataframe tbody tr th:only-of-type {\n",
       "        vertical-align: middle;\n",
       "    }\n",
       "\n",
       "    .dataframe tbody tr th {\n",
       "        vertical-align: top;\n",
       "    }\n",
       "\n",
       "    .dataframe thead th {\n",
       "        text-align: right;\n",
       "    }\n",
       "</style>\n",
       "<table border=\"1\" class=\"dataframe\">\n",
       "  <thead>\n",
       "    <tr style=\"text-align: right;\">\n",
       "      <th></th>\n",
       "      <th>Año</th>\n",
       "      <th>Trimestre</th>\n",
       "      <th>Minutos pospago salientes (miles)</th>\n",
       "      <th>Minutos prepago salientes (miles)</th>\n",
       "      <th>Total de minutos salientes (miles)</th>\n",
       "      <th>Periodo</th>\n",
       "      <th>Period_tri</th>\n",
       "    </tr>\n",
       "    <tr>\n",
       "      <th>Trimestre_F</th>\n",
       "      <th></th>\n",
       "      <th></th>\n",
       "      <th></th>\n",
       "      <th></th>\n",
       "      <th></th>\n",
       "      <th></th>\n",
       "      <th></th>\n",
       "    </tr>\n",
       "  </thead>\n",
       "  <tbody>\n",
       "    <tr>\n",
       "      <td>2013Q1</td>\n",
       "      <td>2013</td>\n",
       "      <td>1</td>\n",
       "      <td>8785943</td>\n",
       "      <td>6582117</td>\n",
       "      <td>15368060</td>\n",
       "      <td>Ene-Mar 2013</td>\n",
       "      <td>2013-03-01</td>\n",
       "    </tr>\n",
       "    <tr>\n",
       "      <td>2013Q2</td>\n",
       "      <td>2013</td>\n",
       "      <td>2</td>\n",
       "      <td>9512689</td>\n",
       "      <td>7108640</td>\n",
       "      <td>16621329</td>\n",
       "      <td>Abr-Jun 2013</td>\n",
       "      <td>2013-06-01</td>\n",
       "    </tr>\n",
       "    <tr>\n",
       "      <td>2013Q3</td>\n",
       "      <td>2013</td>\n",
       "      <td>3</td>\n",
       "      <td>10315484</td>\n",
       "      <td>7335154</td>\n",
       "      <td>17650638</td>\n",
       "      <td>Jul-Sept 2013</td>\n",
       "      <td>2013-09-01</td>\n",
       "    </tr>\n",
       "    <tr>\n",
       "      <td>2013Q4</td>\n",
       "      <td>2013</td>\n",
       "      <td>4</td>\n",
       "      <td>9809515</td>\n",
       "      <td>6250549</td>\n",
       "      <td>16060064</td>\n",
       "      <td>Oct-Dic 2013</td>\n",
       "      <td>2013-12-01</td>\n",
       "    </tr>\n",
       "    <tr>\n",
       "      <td>2014Q1</td>\n",
       "      <td>2014</td>\n",
       "      <td>1</td>\n",
       "      <td>10128751</td>\n",
       "      <td>5799223</td>\n",
       "      <td>15927974</td>\n",
       "      <td>Ene-Mar 2013</td>\n",
       "      <td>2014-03-01</td>\n",
       "    </tr>\n",
       "  </tbody>\n",
       "</table>\n",
       "</div>"
      ],
      "text/plain": [
       "              Año  Trimestre  Minutos pospago salientes (miles)  \\\n",
       "Trimestre_F                                                       \n",
       "2013Q1       2013          1                            8785943   \n",
       "2013Q2       2013          2                            9512689   \n",
       "2013Q3       2013          3                           10315484   \n",
       "2013Q4       2013          4                            9809515   \n",
       "2014Q1       2014          1                           10128751   \n",
       "\n",
       "             Minutos prepago salientes (miles)  \\\n",
       "Trimestre_F                                      \n",
       "2013Q1                                 6582117   \n",
       "2013Q2                                 7108640   \n",
       "2013Q3                                 7335154   \n",
       "2013Q4                                 6250549   \n",
       "2014Q1                                 5799223   \n",
       "\n",
       "             Total de minutos salientes (miles)        Periodo  Period_tri  \n",
       "Trimestre_F                                                                 \n",
       "2013Q1                                 15368060   Ene-Mar 2013  2013-03-01  \n",
       "2013Q2                                 16621329   Abr-Jun 2013  2013-06-01  \n",
       "2013Q3                                 17650638  Jul-Sept 2013  2013-09-01  \n",
       "2013Q4                                 16060064   Oct-Dic 2013  2013-12-01  \n",
       "2014Q1                                 15927974   Ene-Mar 2013  2014-03-01  "
      ]
     },
     "execution_count": 9,
     "metadata": {},
     "output_type": "execute_result"
    }
   ],
   "source": [
    "#Datos['Period_tri'] = Datos['Period_tri'].to_timestamp #['Minutos pospago salientes (miles)'].plot(color='red',figsize=(6,4));\n",
    "Datos.head()"
   ]
  },
  {
   "cell_type": "code",
   "execution_count": 10,
   "metadata": {},
   "outputs": [
    {
     "data": {
      "text/plain": [
       "PeriodIndex(['2013Q1', '2013Q2', '2013Q3', '2013Q4', '2014Q1', '2014Q2',\n",
       "             '2014Q3', '2014Q4', '2015Q1', '2015Q2', '2015Q3', '2015Q4',\n",
       "             '2016Q1', '2016Q2', '2016Q3', '2016Q4', '2017Q1', '2017Q2',\n",
       "             '2017Q3', '2017Q4', '2018Q1', '2018Q2', '2018Q3', '2018Q4',\n",
       "             '2019Q1'],\n",
       "            dtype='period[Q-DEC]', name='Trimestre_F', freq='Q-DEC')"
      ]
     },
     "execution_count": 10,
     "metadata": {},
     "output_type": "execute_result"
    }
   ],
   "source": [
    "Datos.index"
   ]
  },
  {
   "cell_type": "code",
   "execution_count": 11,
   "metadata": {},
   "outputs": [
    {
     "data": {
      "text/html": [
       "<div>\n",
       "<style scoped>\n",
       "    .dataframe tbody tr th:only-of-type {\n",
       "        vertical-align: middle;\n",
       "    }\n",
       "\n",
       "    .dataframe tbody tr th {\n",
       "        vertical-align: top;\n",
       "    }\n",
       "\n",
       "    .dataframe thead th {\n",
       "        text-align: right;\n",
       "    }\n",
       "</style>\n",
       "<table border=\"1\" class=\"dataframe\">\n",
       "  <thead>\n",
       "    <tr style=\"text-align: right;\">\n",
       "      <th></th>\n",
       "      <th>Minutos pospago salientes (miles)</th>\n",
       "      <th>Minutos prepago salientes (miles)</th>\n",
       "      <th>Total de minutos salientes (miles)</th>\n",
       "    </tr>\n",
       "    <tr>\n",
       "      <th>Trimestre_F</th>\n",
       "      <th></th>\n",
       "      <th></th>\n",
       "      <th></th>\n",
       "    </tr>\n",
       "  </thead>\n",
       "  <tbody>\n",
       "    <tr>\n",
       "      <td>2018Q1</td>\n",
       "      <td>13423580</td>\n",
       "      <td>5850985</td>\n",
       "      <td>19274565</td>\n",
       "    </tr>\n",
       "    <tr>\n",
       "      <td>2018Q2</td>\n",
       "      <td>14240217</td>\n",
       "      <td>6027374</td>\n",
       "      <td>20267591</td>\n",
       "    </tr>\n",
       "    <tr>\n",
       "      <td>2018Q3</td>\n",
       "      <td>14574305</td>\n",
       "      <td>6108477</td>\n",
       "      <td>20682782</td>\n",
       "    </tr>\n",
       "    <tr>\n",
       "      <td>2018Q4</td>\n",
       "      <td>14915060</td>\n",
       "      <td>6613685</td>\n",
       "      <td>21528745</td>\n",
       "    </tr>\n",
       "    <tr>\n",
       "      <td>2019Q1</td>\n",
       "      <td>13937271</td>\n",
       "      <td>6427084</td>\n",
       "      <td>20364355</td>\n",
       "    </tr>\n",
       "  </tbody>\n",
       "</table>\n",
       "</div>"
      ],
      "text/plain": [
       "             Minutos pospago salientes (miles)  \\\n",
       "Trimestre_F                                      \n",
       "2018Q1                                13423580   \n",
       "2018Q2                                14240217   \n",
       "2018Q3                                14574305   \n",
       "2018Q4                                14915060   \n",
       "2019Q1                                13937271   \n",
       "\n",
       "             Minutos prepago salientes (miles)  \\\n",
       "Trimestre_F                                      \n",
       "2018Q1                                 5850985   \n",
       "2018Q2                                 6027374   \n",
       "2018Q3                                 6108477   \n",
       "2018Q4                                 6613685   \n",
       "2019Q1                                 6427084   \n",
       "\n",
       "             Total de minutos salientes (miles)  \n",
       "Trimestre_F                                      \n",
       "2018Q1                                 19274565  \n",
       "2018Q2                                 20267591  \n",
       "2018Q3                                 20682782  \n",
       "2018Q4                                 21528745  \n",
       "2019Q1                                 20364355  "
      ]
     },
     "execution_count": 11,
     "metadata": {},
     "output_type": "execute_result"
    }
   ],
   "source": [
    "Datos=Datos.drop(columns=['Año', 'Trimestre', 'Period_tri', 'Periodo'])\n",
    "Datos.tail()"
   ]
  },
  {
   "cell_type": "markdown",
   "metadata": {},
   "source": [
    "### Exploración y visualización de datos"
   ]
  },
  {
   "cell_type": "code",
   "execution_count": 12,
   "metadata": {},
   "outputs": [
    {
     "data": {
      "text/html": [
       "<div>\n",
       "<style scoped>\n",
       "    .dataframe tbody tr th:only-of-type {\n",
       "        vertical-align: middle;\n",
       "    }\n",
       "\n",
       "    .dataframe tbody tr th {\n",
       "        vertical-align: top;\n",
       "    }\n",
       "\n",
       "    .dataframe thead th {\n",
       "        text-align: right;\n",
       "    }\n",
       "</style>\n",
       "<table border=\"1\" class=\"dataframe\">\n",
       "  <thead>\n",
       "    <tr style=\"text-align: right;\">\n",
       "      <th></th>\n",
       "      <th>Minutos pospago salientes (miles)</th>\n",
       "      <th>Minutos prepago salientes (miles)</th>\n",
       "      <th>Total de minutos salientes (miles)</th>\n",
       "    </tr>\n",
       "  </thead>\n",
       "  <tbody>\n",
       "    <tr>\n",
       "      <td>count</td>\n",
       "      <td>25.00</td>\n",
       "      <td>25.0</td>\n",
       "      <td>25.00</td>\n",
       "    </tr>\n",
       "    <tr>\n",
       "      <td>mean</td>\n",
       "      <td>12359295.44</td>\n",
       "      <td>6562909.4</td>\n",
       "      <td>18922204.72</td>\n",
       "    </tr>\n",
       "    <tr>\n",
       "      <td>std</td>\n",
       "      <td>2085582.33</td>\n",
       "      <td>516860.4</td>\n",
       "      <td>1982378.31</td>\n",
       "    </tr>\n",
       "    <tr>\n",
       "      <td>min</td>\n",
       "      <td>8785943.00</td>\n",
       "      <td>5380710.0</td>\n",
       "      <td>15368060.00</td>\n",
       "    </tr>\n",
       "    <tr>\n",
       "      <td>25%</td>\n",
       "      <td>10821463.00</td>\n",
       "      <td>6250549.0</td>\n",
       "      <td>17650638.00</td>\n",
       "    </tr>\n",
       "    <tr>\n",
       "      <td>50%</td>\n",
       "      <td>11905073.00</td>\n",
       "      <td>6579819.0</td>\n",
       "      <td>19001229.00</td>\n",
       "    </tr>\n",
       "    <tr>\n",
       "      <td>75%</td>\n",
       "      <td>14240217.00</td>\n",
       "      <td>7077838.0</td>\n",
       "      <td>20364355.00</td>\n",
       "    </tr>\n",
       "    <tr>\n",
       "      <td>max</td>\n",
       "      <td>15960765.00</td>\n",
       "      <td>7335154.0</td>\n",
       "      <td>22899656.00</td>\n",
       "    </tr>\n",
       "  </tbody>\n",
       "</table>\n",
       "</div>"
      ],
      "text/plain": [
       "       Minutos pospago salientes (miles)  Minutos prepago salientes (miles)  \\\n",
       "count                              25.00                               25.0   \n",
       "mean                         12359295.44                          6562909.4   \n",
       "std                           2085582.33                           516860.4   \n",
       "min                           8785943.00                          5380710.0   \n",
       "25%                          10821463.00                          6250549.0   \n",
       "50%                          11905073.00                          6579819.0   \n",
       "75%                          14240217.00                          7077838.0   \n",
       "max                          15960765.00                          7335154.0   \n",
       "\n",
       "       Total de minutos salientes (miles)  \n",
       "count                               25.00  \n",
       "mean                          18922204.72  \n",
       "std                            1982378.31  \n",
       "min                           15368060.00  \n",
       "25%                           17650638.00  \n",
       "50%                           19001229.00  \n",
       "75%                           20364355.00  \n",
       "max                           22899656.00  "
      ]
     },
     "execution_count": 12,
     "metadata": {},
     "output_type": "execute_result"
    }
   ],
   "source": [
    "Datos.describe().round(2) #mas de 2 decimales me muestra los datoso como notación científica por el tamaño de los numeros"
   ]
  },
  {
   "cell_type": "code",
   "execution_count": 13,
   "metadata": {},
   "outputs": [
    {
     "data": {
      "text/plain": [
       "<matplotlib.axes._subplots.AxesSubplot at 0x16adf66e0f0>"
      ]
     },
     "execution_count": 13,
     "metadata": {},
     "output_type": "execute_result"
    },
    {
     "data": {
      "image/png": "[encoded data removed]",
      "text/plain": [
       "<Figure size 432x288 with 1 Axes>"
      ]
     },
     "metadata": {
      "needs_background": "light"
     },
     "output_type": "display_data"
    }
   ],
   "source": [
    "Datos.plot()"
   ]
  },
  {
   "cell_type": "code",
   "execution_count": 14,
   "metadata": {},
   "outputs": [
    {
     "data": {
      "text/plain": [
       "pandas.core.indexes.period.PeriodIndex"
      ]
     },
     "execution_count": 14,
     "metadata": {},
     "output_type": "execute_result"
    }
   ],
   "source": [
    "#Datos.index=Datos.index.to_period(freq='Q')\n",
    "type(Datos.index)"
   ]
  },
  {
   "cell_type": "markdown",
   "metadata": {},
   "source": [
    "### Implementación de modelos\n",
    "\n",
    "#### Naïve\n",
    "\n",
    "Tomo el dato de minutos totales para pronosticar"
   ]
  },
  {
   "cell_type": "code",
   "execution_count": 15,
   "metadata": {},
   "outputs": [],
   "source": [
    "y=Datos['Total de minutos salientes (miles)']"
   ]
  },
  {
   "cell_type": "code",
   "execution_count": 22,
   "metadata": {},
   "outputs": [
    {
     "name": "stdout",
     "output_type": "stream",
     "text": [
      "Prediccion Naive de minutos totales para los 4 períodos siguientes:\n",
      "2019Q2    20364355\n",
      "2019Q3    20364355\n",
      "2019Q4    20364355\n",
      "2020Q1    20364355\n",
      "Freq: Q-DEC, dtype: int64\n",
      "\n"
     ]
    }
   ],
   "source": [
    "\n",
    "h = 4\n",
    "test=pd.period_range(start=Datos.index[-1]+1, periods=h, freq='Q')\n",
    "test\n",
    "\n",
    "pred_min_total=pd.Series(np.repeat(Datos.iloc[-1, 2], h), index=test)# the forecast repeats the last observed values h times\n",
    "\n",
    "Datos_naive = Datos\n",
    "\n",
    "\n",
    "print('Prediccion Naive de minutos totales para los %d períodos siguientes:' % h , end='\\n')\n",
    "print(pred_min_total, end='\\n\\n')\n",
    "\n",
    "#pred_min_total\n"
   ]
  },
  {
   "cell_type": "code",
   "execution_count": 45,
   "metadata": {},
   "outputs": [
    {
     "data": {
      "text/plain": [
       "pandas.core.frame.DataFrame"
      ]
     },
     "execution_count": 45,
     "metadata": {},
     "output_type": "execute_result"
    }
   ],
   "source": [
    "type(Datos_naive)"
   ]
  },
  {
   "cell_type": "code",
   "execution_count": 24,
   "metadata": {},
   "outputs": [
    {
     "name": "stdout",
     "output_type": "stream",
     "text": [
      "Desvío total:\t1409600.295\n",
      "\n"
     ]
    }
   ],
   "source": [
    "resid=y-y.shift(1) # the shift lags the series by one period\n",
    "sigma = resid.std()\n",
    "round(sigma,3)\n",
    "\n",
    "print('\\\n",
    "Desvío total:\\t{}\\n\\\n",
    "'.format(round(sigma,3)))"
   ]
  },
  {
   "cell_type": "code",
   "execution_count": 31,
   "metadata": {},
   "outputs": [
    {
     "data": {
      "image/png": "[encoded data removed]",
      "text/plain": [
       "<Figure size 576x360 with 1 Axes>"
      ]
     },
     "metadata": {},
     "output_type": "display_data"
    }
   ],
   "source": [
    "np.arange(1,h+1)\n",
    "intv = pd.concat([pred_min_total-stats.norm.ppf(0.975)*sigma*np.sqrt(np.arange(1,h+1)), pred_min_total + stats.norm.ppf(0.975)*sigma*np.sqrt(np.arange(1,h+1))], axis=1)\n",
    "intv.round(3)\n",
    "\n",
    "from plotting import fanchart\n",
    "\n",
    "point_pred = (intv[0]+intv[1])/2\n",
    "\n",
    "fig, ax = fanchart(y['1980':],point_pred,intv,intv,intv)\n",
    "\n",
    "plt.show()"
   ]
  },
  {
   "cell_type": "markdown",
   "metadata": {},
   "source": [
    "#### Simple exponential smoothing"
   ]
  },
  {
   "cell_type": "code",
   "execution_count": 33,
   "metadata": {},
   "outputs": [
    {
     "data": {
      "text/html": [
       "<table class=\"simpletable\">\n",
       "<caption>SimpleExpSmoothing Model Results</caption>\n",
       "<tr>\n",
       "  <th>Dep. Variable:</th>           <td>endog</td>       <th>  No. Observations:  </th>         <td>25</td>        \n",
       "</tr>\n",
       "<tr>\n",
       "  <th>Model:</th>            <td>SimpleExpSmoothing</td> <th>  SSE                </th> <td>43907864549324.172</td>\n",
       "</tr>\n",
       "<tr>\n",
       "  <th>Optimized:</th>               <td>True</td>        <th>  AIC                </th>       <td>708.856</td>     \n",
       "</tr>\n",
       "<tr>\n",
       "  <th>Trend:</th>                   <td>None</td>        <th>  BIC                </th>       <td>711.294</td>     \n",
       "</tr>\n",
       "<tr>\n",
       "  <th>Seasonal:</th>                <td>None</td>        <th>  AICC               </th>       <td>710.856</td>     \n",
       "</tr>\n",
       "<tr>\n",
       "  <th>Seasonal Periods:</th>        <td>None</td>        <th>  Date:              </th>  <td>Mon, 14 Oct 2019</td> \n",
       "</tr>\n",
       "<tr>\n",
       "  <th>Box-Cox:</th>                 <td>False</td>       <th>  Time:              </th>      <td>10:53:18</td>     \n",
       "</tr>\n",
       "<tr>\n",
       "  <th>Box-Cox Coeff.:</th>          <td>None</td>        <th>                     </th>          <td> </td>        \n",
       "</tr>\n",
       "</table>\n",
       "<table class=\"simpletable\">\n",
       "<tr>\n",
       "         <td></td>                 <th>coeff</th>                <th>code</th>               <th>optimized</th>     \n",
       "</tr>\n",
       "<tr>\n",
       "  <th>smoothing_level</th> <td>           0.6030715</td> <td>               alpha</td> <td>                True</td>\n",
       "</tr>\n",
       "<tr>\n",
       "  <th>initial_level</th>   <td>          1.5372e+07</td> <td>                 l.0</td> <td>                True</td>\n",
       "</tr>\n",
       "</table>"
      ],
      "text/plain": [
       "<class 'statsmodels.iolib.summary.Summary'>\n",
       "\"\"\"\n",
       "                       SimpleExpSmoothing Model Results                       \n",
       "==============================================================================\n",
       "Dep. Variable:                  endog   No. Observations:                   25\n",
       "Model:             SimpleExpSmoothing   SSE                 43907864549324.172\n",
       "Optimized:                       True   AIC                            708.856\n",
       "Trend:                           None   BIC                            711.294\n",
       "Seasonal:                        None   AICC                           710.856\n",
       "Seasonal Periods:                None   Date:                 Mon, 14 Oct 2019\n",
       "Box-Cox:                        False   Time:                         10:53:18\n",
       "Box-Cox Coeff.:                  None                                         \n",
       "==============================================================================\n",
       "                       coeff                 code              optimized      \n",
       "------------------------------------------------------------------------------\n",
       "smoothing_level            0.6030715                alpha                 True\n",
       "initial_level             1.5372e+07                  l.0                 True\n",
       "------------------------------------------------------------------------------\n",
       "\"\"\""
      ]
     },
     "execution_count": 33,
     "metadata": {},
     "output_type": "execute_result"
    }
   ],
   "source": [
    "model_ses = sm.tsa.SimpleExpSmoothing(y.astype(np.float)).fit()\n",
    "fitted_ses = model_ses.fittedvalues\n",
    "model_ses.summary()"
   ]
  },
  {
   "cell_type": "code",
   "execution_count": 34,
   "metadata": {},
   "outputs": [
    {
     "name": "stdout",
     "output_type": "stream",
     "text": [
      " In-sample fit:\n",
      " MSE               1756314581972.967\n"
     ]
    }
   ],
   "source": [
    "mse_ses = sm.tools.eval_measures.mse(y,fitted_ses)\n",
    "print(' In-sample fit:')\n",
    "print(' MSE               {0:.3f}'.format(mse_ses))"
   ]
  },
  {
   "cell_type": "code",
   "execution_count": 35,
   "metadata": {},
   "outputs": [
    {
     "name": "stdout",
     "output_type": "stream",
     "text": [
      " Log-likelihood    -387.901\n",
      " AIC               781.803\n",
      " BIC               785.460\n"
     ]
    }
   ],
   "source": [
    "N = len(y)\n",
    "loglik_ses=-(N/2)*(1+np.log(2*np.pi))-(N/2)*np.log(mse_ses)\n",
    "aic_ses=-2*loglik_ses+2*3\n",
    "bic_ses=-2*loglik_ses+np.log(N)*3\n",
    "print(' Log-likelihood    %.3f' % (loglik_ses))\n",
    "print(' AIC               {0:.3f}'.format(aic_ses))\n",
    "print(' BIC               {0:.3f}'.format(bic_ses))"
   ]
  },
  {
   "cell_type": "code",
   "execution_count": 36,
   "metadata": {},
   "outputs": [
    {
     "data": {
      "image/png": "[encoded data removed]",
      "text/plain": [
       "<Figure size 432x288 with 1 Axes>"
      ]
     },
     "metadata": {
      "needs_background": "light"
     },
     "output_type": "display_data"
    }
   ],
   "source": [
    "fig, ax= plt.subplots();#figsize=(9,6))\n",
    "y.plot(color=red, label='Minutos Totales')\n",
    "fitted_ses.plot(color='black', label='Simple exponential smoothing fit', alpha=0.8)\n",
    "ax.set_xlabel('')\n",
    "ax.set_ylabel('Minutos totales')\n",
    "ax.set_title('Consumo de minutos de telefonía ')\n",
    "ax.set_xticks([], minor=True) \n",
    "plt.legend(loc='best')\n",
    "sns.despine()\n",
    "plt.show()"
   ]
  },
  {
   "cell_type": "code",
   "execution_count": 41,
   "metadata": {},
   "outputs": [
    {
     "data": {
      "image/png": "[encoded data removed]",
      "text/plain": [
       "<Figure size 432x288 with 1 Axes>"
      ]
     },
     "metadata": {
      "needs_background": "light"
     },
     "output_type": "display_data"
    }
   ],
   "source": [
    "resid=y-fitted_ses # model_ses.resid isn't a panda.Series, so no index, no plot\n",
    "fig, ax= plt.subplots();#figsize=(9,6))\n",
    "resid.plot(color=blue)\n",
    "ax.set_xlabel('')\n",
    "ax.set_xticks([], minor=True) \n",
    "ax.set_title('Residual plot')\n",
    "sns.despine()\n",
    "plt.show()"
   ]
  },
  {
   "cell_type": "code",
   "execution_count": 42,
   "metadata": {},
   "outputs": [
    {
     "data": {
      "image/png": "[encoded data removed]",
      "text/plain": [
       "<Figure size 1152x432 with 1 Axes>"
      ]
     },
     "metadata": {
      "needs_background": "light"
     },
     "output_type": "display_data"
    }
   ],
   "source": [
    "fig, ax = plt.subplots(figsize = (16, 6))\n",
    "sm.graphics.tsa.plot_acf(resid, lags = 24, ax = ax)\n",
    "ax.set_title('Autocorrelation', fontsize = 16)\n",
    "sns.despine()\n",
    "plt.show()"
   ]
  },
  {
   "cell_type": "code",
   "execution_count": 45,
   "metadata": {},
   "outputs": [
    {
     "data": {
      "image/png": "[encoded data removed]",
      "text/plain": [
       "<Figure size 432x288 with 1 Axes>"
      ]
     },
     "metadata": {
      "needs_background": "light"
     },
     "output_type": "display_data"
    }
   ],
   "source": [
    "fig, ax = plt.subplots();#figsize=(9,6))\n",
    "sm.graphics.tsa.plot_acf(resid, lags=24, ax=ax)\n",
    "sns.despine()\n",
    "plt.show()"
   ]
  },
  {
   "cell_type": "code",
   "execution_count": 49,
   "metadata": {},
   "outputs": [
    {
     "data": {
      "image/png": "[encoded data removed]",
      "text/plain": [
       "<Figure size 1152x720 with 1 Axes>"
      ]
     },
     "metadata": {
      "needs_background": "light"
     },
     "output_type": "display_data"
    }
   ],
   "source": [
    "def hist(series):\n",
    "    fig, ax= plt.subplots(figsize=(16,10))\n",
    "    sns.distplot(series, ax=ax, hist_kws={'alpha': 0.8, 'edgecolor':'black', 'color': blue},  \n",
    "                 kde_kws={'color': 'black', 'alpha': 0.7})\n",
    "    sns.despine()\n",
    "    return fig, ax\n",
    "\n",
    "hist(resid)\n",
    "plt.show()"
   ]
  },
  {
   "cell_type": "markdown",
   "metadata": {},
   "source": [
    "### Validación del modelo"
   ]
  },
  {
   "cell_type": "code",
   "execution_count": 51,
   "metadata": {},
   "outputs": [
    {
     "data": {
      "text/plain": [
       "0.12"
      ]
     },
     "execution_count": 51,
     "metadata": {},
     "output_type": "execute_result"
    }
   ],
   "source": [
    "(y.index.get_loc('2014Q1')-1)/len(y)"
   ]
  },
  {
   "cell_type": "code",
   "execution_count": 55,
   "metadata": {},
   "outputs": [
    {
     "name": "stderr",
     "output_type": "stream",
     "text": [
      "C:\\Users\\piaggica\\AppData\\Local\\Continuum\\anaconda3\\envs\\diplodatos\\lib\\site-packages\\statsmodels\\tsa\\holtwinters.py:712: ConvergenceWarning: Optimization failed to converge. Check mle_retvals.\n",
      "  ConvergenceWarning)\n",
      "C:\\Users\\piaggica\\AppData\\Local\\Continuum\\anaconda3\\envs\\diplodatos\\lib\\site-packages\\statsmodels\\tsa\\holtwinters.py:712: ConvergenceWarning: Optimization failed to converge. Check mle_retvals.\n",
      "  ConvergenceWarning)\n"
     ]
    },
    {
     "data": {
      "text/html": [
       "<div>\n",
       "<style scoped>\n",
       "    .dataframe tbody tr th:only-of-type {\n",
       "        vertical-align: middle;\n",
       "    }\n",
       "\n",
       "    .dataframe tbody tr th {\n",
       "        vertical-align: top;\n",
       "    }\n",
       "\n",
       "    .dataframe thead th {\n",
       "        text-align: right;\n",
       "    }\n",
       "</style>\n",
       "<table border=\"1\" class=\"dataframe\">\n",
       "  <thead>\n",
       "    <tr style=\"text-align: right;\">\n",
       "      <th></th>\n",
       "      <th>RW</th>\n",
       "      <th>SES</th>\n",
       "      <th>Actual</th>\n",
       "    </tr>\n",
       "    <tr>\n",
       "      <th>Trimestre_F</th>\n",
       "      <th></th>\n",
       "      <th></th>\n",
       "      <th></th>\n",
       "    </tr>\n",
       "  </thead>\n",
       "  <tbody>\n",
       "    <tr>\n",
       "      <td>2018Q1</td>\n",
       "      <td>19545262.0</td>\n",
       "      <td>2.038565e+07</td>\n",
       "      <td>19274565.0</td>\n",
       "    </tr>\n",
       "    <tr>\n",
       "      <td>2018Q2</td>\n",
       "      <td>19274565.0</td>\n",
       "      <td>1.959786e+07</td>\n",
       "      <td>20267591.0</td>\n",
       "    </tr>\n",
       "    <tr>\n",
       "      <td>2018Q3</td>\n",
       "      <td>20267591.0</td>\n",
       "      <td>2.003154e+07</td>\n",
       "      <td>20682782.0</td>\n",
       "    </tr>\n",
       "    <tr>\n",
       "      <td>2018Q4</td>\n",
       "      <td>20682782.0</td>\n",
       "      <td>2.040362e+07</td>\n",
       "      <td>21528745.0</td>\n",
       "    </tr>\n",
       "    <tr>\n",
       "      <td>2019Q1</td>\n",
       "      <td>21528745.0</td>\n",
       "      <td>2.114091e+07</td>\n",
       "      <td>20364355.0</td>\n",
       "    </tr>\n",
       "  </tbody>\n",
       "</table>\n",
       "</div>"
      ],
      "text/plain": [
       "                     RW           SES      Actual\n",
       "Trimestre_F                                      \n",
       "2018Q1       19545262.0  2.038565e+07  19274565.0\n",
       "2018Q2       19274565.0  1.959786e+07  20267591.0\n",
       "2018Q3       20267591.0  2.003154e+07  20682782.0\n",
       "2018Q4       20682782.0  2.040362e+07  21528745.0\n",
       "2019Q1       21528745.0  2.114091e+07  20364355.0"
      ]
     },
     "execution_count": 55,
     "metadata": {},
     "output_type": "execute_result"
    }
   ],
   "source": [
    "validation = y['2014Q1':].index # the validation period is Q1 2014 onwards\n",
    "start = y.index.get_loc('2014Q1') # numerical index corresponding to Q1 2015\n",
    "\n",
    "pred1 = []\n",
    "pred2 = []\n",
    "actual= []\n",
    "for i in range(start, len(y)):\n",
    "    \n",
    "    actual.append(y.iloc[i]) # actual value\n",
    "    \n",
    "    pred1.append(y.iloc[i-1]) # random walk forecast\n",
    "    \n",
    "    model = sm.tsa.SimpleExpSmoothing(y.astype(float).iloc[:i]).fit() \n",
    "    pred2.append(model.forecast(1)[0]) # SES forecast\n",
    "\n",
    "columns=['RW', 'SES', 'Actual']\n",
    "results_sm = np.vstack([pred1, pred2, actual]).T\n",
    "results_sm = pd.DataFrame(results_sm, columns = columns, index = validation)\n",
    "results_sm.tail()"
   ]
  },
  {
   "cell_type": "code",
   "execution_count": 56,
   "metadata": {},
   "outputs": [
    {
     "data": {
      "text/html": [
       "<div>\n",
       "<style scoped>\n",
       "    .dataframe tbody tr th:only-of-type {\n",
       "        vertical-align: middle;\n",
       "    }\n",
       "\n",
       "    .dataframe tbody tr th {\n",
       "        vertical-align: top;\n",
       "    }\n",
       "\n",
       "    .dataframe thead th {\n",
       "        text-align: right;\n",
       "    }\n",
       "</style>\n",
       "<table border=\"1\" class=\"dataframe\">\n",
       "  <thead>\n",
       "    <tr style=\"text-align: right;\">\n",
       "      <th></th>\n",
       "      <th>RMSE</th>\n",
       "      <th>SE</th>\n",
       "    </tr>\n",
       "  </thead>\n",
       "  <tbody>\n",
       "    <tr>\n",
       "      <td>RW</td>\n",
       "      <td>1407131.775</td>\n",
       "      <td>311288.345</td>\n",
       "    </tr>\n",
       "    <tr>\n",
       "      <td>SES</td>\n",
       "      <td>1531329.316</td>\n",
       "      <td>336063.476</td>\n",
       "    </tr>\n",
       "  </tbody>\n",
       "</table>\n",
       "</div>"
      ],
      "text/plain": [
       "            RMSE          SE\n",
       "RW   1407131.775  311288.345\n",
       "SES  1531329.316  336063.476"
      ]
     },
     "execution_count": 56,
     "metadata": {},
     "output_type": "execute_result"
    }
   ],
   "source": [
    "from scipy import stats\n",
    "table = pd.DataFrame(0.0, index = results_sm.columns[:-1], columns = ['RMSE', 'SE'])\n",
    "for i in range(2):\n",
    "    table.iloc[i, 0] = sm.tools.eval_measures.rmse(results_sm.iloc[:, i], results_sm.iloc[:, -1])\n",
    "    table.iloc[i, 1] = (results_sm.iloc[:, i] - results_sm.iloc[:, -1]).sem()\n",
    "    \n",
    "table.round(3)"
   ]
  },
  {
   "cell_type": "code",
   "execution_count": 57,
   "metadata": {},
   "outputs": [
    {
     "data": {
      "image/png": "[encoded data removed]",
      "text/plain": [
       "<Figure size 432x288 with 1 Axes>"
      ]
     },
     "metadata": {
      "needs_background": "light"
     },
     "output_type": "display_data"
    }
   ],
   "source": [
    "h=12\n",
    "w=h*10\n",
    "data = y\n",
    "model = sm.tsa.SimpleExpSmoothing\n",
    "pred_index = y.index[-1] + np.array(range(1,h+1))\n",
    "pred_rolling = pd.Series(0,index=pred_index)\n",
    "pred_expanding = pd.Series(0,index=pred_index)\n",
    "orig_exp = None\n",
    "orig_roll = None\n",
    "for i in range(0,h):\n",
    "    current_exp = pd.concat([data, pred_expanding.head(i)]).astype(float)\n",
    "    expanding = model(current_exp).fit()\n",
    "    pred_expanding.update(expanding.forecast(1))\n",
    "    current_roll = pd.concat([data, pred_rolling.head(i)]).astype(float)\n",
    "    rolling = model(current_roll.tail(w)).fit()\n",
    "    pred_rolling.update(rolling.forecast(1))\n",
    "    if i==0:\n",
    "        orig_fit = expanding.fittedvalues\n",
    "        orig_roll = rolling.fittedvalues\n",
    "ax = data[-w:].plot(color='red');#figsize=(9,6))\n",
    "pd.concat([orig_fit[-w:],pred_expanding]).plot(ax=ax,color='blue');\n",
    "pd.concat([orig_roll[-w:],pred_rolling]).plot(ax=ax,color='green');"
   ]
  },
  {
   "cell_type": "code",
   "execution_count": null,
   "metadata": {},
   "outputs": [],
   "source": []
  }
 ],
 "metadata": {
  "kernelspec": {
   "display_name": "Python 3",
   "language": "python",
   "name": "python3"
  },
  "language_info": {
   "codemirror_mode": {
    "name": "ipython",
    "version": 3
   },
   "file_extension": ".py",
   "mimetype": "text/x-python",
   "name": "python",
   "nbconvert_exporter": "python",
   "pygments_lexer": "ipython3",
   "version": "3.7.1"
  }
 },
 "nbformat": 4,
 "nbformat_minor": 2
}
